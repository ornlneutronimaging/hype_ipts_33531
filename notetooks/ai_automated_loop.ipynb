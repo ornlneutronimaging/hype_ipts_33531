{
 "cells": [
  {
   "cell_type": "code",
   "execution_count": 1,
   "metadata": {},
   "outputs": [],
   "source": [
    "debug = False"
   ]
  },
  {
   "cell_type": "code",
   "execution_count": 2,
   "metadata": {},
   "outputs": [],
   "source": [
    "from code.ai_automated_loop import AiAutomatedLoop"
   ]
  },
  {
   "cell_type": "markdown",
   "metadata": {},
   "source": [
    "# Define parameters"
   ]
  },
  {
   "cell_type": "code",
   "execution_count": 7,
   "metadata": {},
   "outputs": [],
   "source": [
    "# name of your experiment (will be used to name the folders)\n",
    "folder_title = \"November20_CrushedRing_A_hyperCT_Usertest_0\"\n",
    "\n",
    "# description of the scan\n",
    "description_of_exp = \"user, Kevin, beta testing.\"\n",
    "\n",
    "# how many open beams do you want to acquire?\n",
    "nbr_obs = 3    \n",
    "\n",
    "# proton charge for each run\n",
    "proton_charge = 2.5  #c"
   ]
  },
  {
   "cell_type": "markdown",
   "metadata": {},
   "source": [
    "# Launching acquistion of Open Beams, 0 and 180degrees"
   ]
  },
  {
   "cell_type": "code",
   "execution_count": 8,
   "metadata": {},
   "outputs": [
    {
     "name": "stdout",
     "output_type": "stream",
     "text": [
      "/SNS/VENUS/IPTS-33531/shared/ai_output/scripts/pre_exp.py\n",
      "\n",
      "Submitted Table Scan (Scan ID=4116) for: ['user, Kevin, beta testing. OpenBeam #1']:\n",
      "\tresponse_data = {'eic_response_message': 'Completed Control Scenario.', 'success': True, 'results_message': 'Submitted Scan', 'scan_id': 4116, 'http_response_status': '200-OK'}\n",
      "\n",
      "\n",
      "Submitted Table Scan (Scan ID=4117) for: ['user, Kevin, beta testing. OpenBeam #2']:\n",
      "\tresponse_data = {'eic_response_message': 'Completed Control Scenario.', 'success': True, 'results_message': 'Submitted Scan', 'scan_id': 4117, 'http_response_status': '200-OK'}\n",
      "\n",
      "\n",
      "Submitted Table Scan (Scan ID=4118) for: ['user, Kevin, beta testing. OpenBeam #3']:\n",
      "\tresponse_data = {'eic_response_message': 'Completed Control Scenario.', 'success': True, 'results_message': 'Submitted Scan', 'scan_id': 4118, 'http_response_status': '200-OK'}\n",
      "\n",
      "\n",
      "Submitted Table Scan (Scan ID=4119) for: ['Sample moving up']:\n",
      "\tresponse_data = {'eic_response_message': 'Completed Control Scenario.', 'success': True, 'results_message': 'Submitted Scan', 'scan_id': 4119, 'http_response_status': '200-OK'}\n",
      "\n",
      "\n",
      "Submitted Table Scan (Scan ID=4120) for: ['user, Kevin, beta testing. angle #1']:\n",
      "\tresponse_data = {'eic_response_message': 'Completed Control Scenario.', 'success': True, 'results_message': 'Submitted Scan', 'scan_id': 4120, 'http_response_status': '200-OK'}\n",
      "\n",
      "\n",
      "Submitted Table Scan (Scan ID=4121) for: ['user, Kevin, beta testing. angle #2']:\n",
      "\tresponse_data = {'eic_response_message': 'Completed Control Scenario.', 'success': True, 'results_message': 'Submitted Scan', 'scan_id': 4121, 'http_response_status': '200-OK'}\n",
      "\n"
     ]
    }
   ],
   "source": [
    "o_ai = AiAutomatedLoop(folder_title=folder_title,\n",
    "                       description_of_exp=description_of_exp,\n",
    "                       nbr_obs=nbr_obs,\n",
    "                       proton_charge=proton_charge,\n",
    "                       debug=debug)\n",
    "o_ai.launch_pre_processing_step()"
   ]
  },
  {
   "cell_type": "markdown",
   "metadata": {},
   "source": [
    "Check the state of the pre-processing step!\n"
   ]
  },
  {
   "cell_type": "code",
   "execution_count": 6,
   "metadata": {},
   "outputs": [
    {
     "name": "stdout",
     "output_type": "stream",
     "text": [
      "Pre-processing still running, check back in a few minutes!\n"
     ]
    }
   ],
   "source": [
    "o_ai.check_that_pre_process_measurement_is_done()"
   ]
  },
  {
   "cell_type": "markdown",
   "metadata": {},
   "source": [
    "# Calculate center of rotation \n",
    "\n",
    "you have the option to display the 0 and 180 images overlapping by changing the **visualize** flag to **True**"
   ]
  },
  {
   "cell_type": "code",
   "execution_count": null,
   "metadata": {},
   "outputs": [],
   "source": [
    "o_ai.calculate_center_of_rotation(visualize=False)"
   ]
  },
  {
   "cell_type": "markdown",
   "metadata": {},
   "source": [
    "# Launching the AI loop"
   ]
  },
  {
   "cell_type": "code",
   "execution_count": 9,
   "metadata": {},
   "outputs": [
    {
     "ename": "FileNotFoundError",
     "evalue": "[Errno 2] No such file or directory: '/storage/VENUS/IPTS-33531/shared/ai/'",
     "output_type": "error",
     "traceback": [
      "\u001b[0;31m---------------------------------------------------------------------------\u001b[0m",
      "\u001b[0;31mFileNotFoundError\u001b[0m                         Traceback (most recent call last)",
      "Cell \u001b[0;32mIn[9], line 1\u001b[0m\n\u001b[0;32m----> 1\u001b[0m \u001b[43mo_ai\u001b[49m\u001b[38;5;241;43m.\u001b[39;49m\u001b[43mlaunching_ai_loop\u001b[49m\u001b[43m(\u001b[49m\u001b[43m)\u001b[49m\n",
      "File \u001b[0;32m/SNS/snfs1/instruments/VENUS/IPTS-33531/shared/ai_output/notetooks/code/ai_automated_loop.py:143\u001b[0m, in \u001b[0;36mAiAutomatedLoop.launching_ai_loop\u001b[0;34m(self)\u001b[0m\n\u001b[1;32m    142\u001b[0m \u001b[38;5;28;01mdef\u001b[39;00m \u001b[38;5;21mlaunching_ai_loop\u001b[39m(\u001b[38;5;28mself\u001b[39m):\n\u001b[0;32m--> 143\u001b[0m     \u001b[43mshutil\u001b[49m\u001b[38;5;241;43m.\u001b[39;49m\u001b[43mcopy\u001b[49m\u001b[43m(\u001b[49m\u001b[38;5;28;43mself\u001b[39;49m\u001b[38;5;241;43m.\u001b[39;49m\u001b[43mconfig_file\u001b[49m\u001b[43m,\u001b[49m\u001b[43m \u001b[49m\u001b[38;5;28;43mself\u001b[39;49m\u001b[38;5;241;43m.\u001b[39;49m\u001b[43moutput_config_file\u001b[49m\u001b[43m)\u001b[49m\n",
      "File \u001b[0;32m~/miniconda3/envs/python310/lib/python3.10/shutil.py:417\u001b[0m, in \u001b[0;36mcopy\u001b[0;34m(src, dst, follow_symlinks)\u001b[0m\n\u001b[1;32m    415\u001b[0m \u001b[38;5;28;01mif\u001b[39;00m os\u001b[38;5;241m.\u001b[39mpath\u001b[38;5;241m.\u001b[39misdir(dst):\n\u001b[1;32m    416\u001b[0m     dst \u001b[38;5;241m=\u001b[39m os\u001b[38;5;241m.\u001b[39mpath\u001b[38;5;241m.\u001b[39mjoin(dst, os\u001b[38;5;241m.\u001b[39mpath\u001b[38;5;241m.\u001b[39mbasename(src))\n\u001b[0;32m--> 417\u001b[0m \u001b[43mcopyfile\u001b[49m\u001b[43m(\u001b[49m\u001b[43msrc\u001b[49m\u001b[43m,\u001b[49m\u001b[43m \u001b[49m\u001b[43mdst\u001b[49m\u001b[43m,\u001b[49m\u001b[43m \u001b[49m\u001b[43mfollow_symlinks\u001b[49m\u001b[38;5;241;43m=\u001b[39;49m\u001b[43mfollow_symlinks\u001b[49m\u001b[43m)\u001b[49m\n\u001b[1;32m    418\u001b[0m copymode(src, dst, follow_symlinks\u001b[38;5;241m=\u001b[39mfollow_symlinks)\n\u001b[1;32m    419\u001b[0m \u001b[38;5;28;01mreturn\u001b[39;00m dst\n",
      "File \u001b[0;32m~/miniconda3/envs/python310/lib/python3.10/shutil.py:256\u001b[0m, in \u001b[0;36mcopyfile\u001b[0;34m(src, dst, follow_symlinks)\u001b[0m\n\u001b[1;32m    254\u001b[0m \u001b[38;5;28;01mwith\u001b[39;00m \u001b[38;5;28mopen\u001b[39m(src, \u001b[38;5;124m'\u001b[39m\u001b[38;5;124mrb\u001b[39m\u001b[38;5;124m'\u001b[39m) \u001b[38;5;28;01mas\u001b[39;00m fsrc:\n\u001b[1;32m    255\u001b[0m     \u001b[38;5;28;01mtry\u001b[39;00m:\n\u001b[0;32m--> 256\u001b[0m         \u001b[38;5;28;01mwith\u001b[39;00m \u001b[38;5;28;43mopen\u001b[39;49m\u001b[43m(\u001b[49m\u001b[43mdst\u001b[49m\u001b[43m,\u001b[49m\u001b[43m \u001b[49m\u001b[38;5;124;43m'\u001b[39;49m\u001b[38;5;124;43mwb\u001b[39;49m\u001b[38;5;124;43m'\u001b[39;49m\u001b[43m)\u001b[49m \u001b[38;5;28;01mas\u001b[39;00m fdst:\n\u001b[1;32m    257\u001b[0m             \u001b[38;5;66;03m# macOS\u001b[39;00m\n\u001b[1;32m    258\u001b[0m             \u001b[38;5;28;01mif\u001b[39;00m _HAS_FCOPYFILE:\n\u001b[1;32m    259\u001b[0m                 \u001b[38;5;28;01mtry\u001b[39;00m:\n",
      "\u001b[0;31mFileNotFoundError\u001b[0m: [Errno 2] No such file or directory: '/storage/VENUS/IPTS-33531/shared/ai/'"
     ]
    }
   ],
   "source": [
    "o_ai.launching_ai_loop()"
   ]
  },
  {
   "cell_type": "code",
   "execution_count": null,
   "metadata": {},
   "outputs": [],
   "source": [
    "script_file = '/SNS/VENUS/IPTS-3353/shared/ai_outputs/script'"
   ]
  }
 ],
 "metadata": {
  "kernelspec": {
   "display_name": "Python 3 (ipykernel)",
   "language": "python",
   "name": "python3"
  },
  "language_info": {
   "codemirror_mode": {
    "name": "ipython",
    "version": 3
   },
   "file_extension": ".py",
   "mimetype": "text/x-python",
   "name": "python",
   "nbconvert_exporter": "python",
   "pygments_lexer": "ipython3",
   "version": "3.10.8"
  }
 },
 "nbformat": 4,
 "nbformat_minor": 2
}
