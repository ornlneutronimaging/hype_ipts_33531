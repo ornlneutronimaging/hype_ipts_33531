{
 "cells": [
  {
   "cell_type": "code",
   "execution_count": 3,
   "metadata": {},
   "outputs": [],
   "source": [
    "debug = True"
   ]
  },
  {
   "cell_type": "code",
   "execution_count": null,
   "metadata": {},
   "outputs": [],
   "source": [
    "from code.ai_automated_loop import AiAutomatedLoop"
   ]
  },
  {
   "cell_type": "markdown",
   "metadata": {},
   "source": [
    "# Define parameters"
   ]
  },
  {
   "cell_type": "code",
   "execution_count": 6,
   "metadata": {},
   "outputs": [],
   "source": [
    "# name of your experiment (will be used to name the folders)\n",
    "folder_title = \"my test experiment\"\n",
    "\n",
    "# description of the scan\n",
    "description_of_exp = \"this is my description2\"\n",
    "\n",
    "# how many open beams do you want to acquire?\n",
    "nbr_obs = 4    \n",
    "\n",
    "# proton charge for each run\n",
    "proton_charge = 1    #c"
   ]
  },
  {
   "cell_type": "markdown",
   "metadata": {},
   "source": [
    "# Launching acquistion of Open Beams, 0 and 180degrees"
   ]
  },
  {
   "cell_type": "code",
   "execution_count": null,
   "metadata": {},
   "outputs": [],
   "source": [
    "o_ai = AiAutomatedLoop(folder_title=folder_title,\n",
    "                       description_of_exp=description_of_exp,\n",
    "                       nbr_obs=nbr_obs,\n",
    "                       proton_charge=proton_charge,\n",
    "                       debug=debug)\n",
    "o_ai.launch_pre_processing_step()"
   ]
  },
  {
   "cell_type": "markdown",
   "metadata": {},
   "source": [
    "Check the state of the pre-processing step!\n"
   ]
  },
  {
   "cell_type": "code",
   "execution_count": null,
   "metadata": {},
   "outputs": [],
   "source": [
    "o_ai.check_that_pre_process_measurement_is_done()"
   ]
  },
  {
   "cell_type": "markdown",
   "metadata": {},
   "source": [
    "# Calculate center of rotation \n",
    "\n",
    "you have the option to display the 0 and 180 images overlapping by changing the **visualize** flag to **True**"
   ]
  },
  {
   "cell_type": "code",
   "execution_count": null,
   "metadata": {},
   "outputs": [],
   "source": [
    "o_ai.calculate_center_of_rotation(visualize=False)"
   ]
  },
  {
   "cell_type": "code",
   "execution_count": null,
   "metadata": {},
   "outputs": [],
   "source": [
    "# def retrieve_list_of_runs(top_folder):\n",
    "#     list_runs = glob.glob(os.path.join(top_folder, \"Run_*\"))\n",
    "#     list_runs.sort()\n",
    "#     return list_runs\n",
    "\n",
    "\n",
    "# def retrieve_list_of_tif(folder):\n",
    "#     list_tif = glob.glob(os.path.join(folder, \"*.tif*\"))\n",
    "#     list_tif.sort()\n",
    "#     return list_tif\n",
    "\n",
    "\n",
    "# def _worker(fl):\n",
    "#     return (imread(fl).astype(np.float32)).swapaxes(0,1)\n",
    "\n",
    "# def load_data_using_multithreading(list_tif, combine_tof=False):\n",
    "#     with mp.Pool(processes=40) as pool:\n",
    "#         data = pool.map(_worker, list_tif)\n",
    "\n",
    "#     if combine_tof:\n",
    "#         return np.array(data).sum(axis=0)\n",
    "#     else:\n",
    "#         return np.array(data)"
   ]
  },
  {
   "cell_type": "code",
   "execution_count": null,
   "metadata": {},
   "outputs": [
    {
     "name": "stderr",
     "output_type": "stream",
     "text": [
      "100%|██████████| 2/2 [00:13<00:00,  6.81s/it]\n"
     ]
    }
   ],
   "source": [
    "# with open(config_file, 'r') as stream_config:\n",
    "#     config = yaml.safe_load(stream_config)\n",
    "\n",
    "# if not config['ai_pre_process_running']:\n",
    "#     # load 0 and 180 degrees projections to calculate center of rotation\n",
    "#     list_all_projections = config['list_of_runs_reduced']\n",
    "#     list_not_obs_projections = [_folder_name for _folder_name in list_all_projections if not _folder_name.startswith('ob_')]\n",
    "#     if len(list_not_obs_projections) == 2:\n",
    "        \n",
    "#         # we have 0 and 180 degrees projections\n",
    "#         list_projections_full_path = [os.path.join(input_folder, _file) for _file in list_not_obs_projections]\n",
    "        \n",
    "#         # get run folder\n",
    "#         dict_stack_tiff = {}\n",
    "#         integrated_min_image = []\n",
    "#         integrated_image = []\n",
    "#         for _folder in tqdm(list_projections_full_path):\n",
    "#             run = retrieve_list_of_runs(_folder)[0]\n",
    "#             list_tiff = retrieve_list_of_tif(run)\n",
    "#             _data = load_data_using_multithreading(list_tiff)\n",
    "#             dict_stack_tiff[os.path.basename(run)] = _data\n",
    "#             integrated_min_image.append(np.min(_data, axis=0))\n",
    "#             integrated_image.append(np.sum(_data, axis=0))\n",
    "\n",
    "    "
   ]
  },
  {
   "cell_type": "code",
   "execution_count": null,
   "metadata": {},
   "outputs": [
    {
     "data": {
      "text/plain": [
       "<matplotlib.colorbar.Colorbar at 0x7fb5256a72e0>"
      ]
     },
     "execution_count": 26,
     "metadata": {},
     "output_type": "execute_result"
    },
    {
     "data": {
      "image/png": "[encoded data removed]",
      "text/plain": [
       "<Figure size 640x480 with 2 Axes>"
      ]
     },
     "metadata": {},
     "output_type": "display_data"
    }
   ],
   "source": [
    "# # load and display integrated min\n",
    "# final_integrated_image = np.min(integrated_min_image, axis=0)\n",
    "# fig, ax = plt.subplots()\n",
    "# im = ax.imshow(final_integrated_image)\n",
    "# plt.colorbar(im, ax=ax)\n"
   ]
  },
  {
   "cell_type": "code",
   "execution_count": null,
   "metadata": {},
   "outputs": [
    {
     "name": "stdout",
     "output_type": "stream",
     "text": [
      "256.0\n"
     ]
    }
   ],
   "source": []
  },
  {
   "cell_type": "markdown",
   "metadata": {},
   "source": [
    "# Launching the AI loop"
   ]
  },
  {
   "cell_type": "markdown",
   "metadata": {},
   "source": [
    "o_ai.launching_ai_loop()"
   ]
  }
 ],
 "metadata": {
  "kernelspec": {
   "display_name": "Python 3",
   "language": "python",
   "name": "python3"
  },
  "language_info": {
   "codemirror_mode": {
    "name": "ipython",
    "version": 3
   },
   "file_extension": ".py",
   "mimetype": "text/x-python",
   "name": "python",
   "nbconvert_exporter": "python",
   "pygments_lexer": "ipython3",
   "version": "3.10.8"
  }
 },
 "nbformat": 4,
 "nbformat_minor": 2
}
